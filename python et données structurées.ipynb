{
 "cells": [
  {
   "cell_type": "markdown",
   "metadata": {},
   "source": [
    "# Partie 0 : Apprendre à utiliser un jupyter notebook\n",
    "\n",
    "Pour cette séance de Tp vous allez utiliser un jupyter notebook\n",
    "C'est une sorte de page internet qui permet de mélanger soit du texte, des images à lire avec du code informatique à excuter\n",
    "\n",
    "Un jupyter notebook est constitué de cellule.\n",
    "Une cellule peut être de 2 types différents:\n",
    "- soit une cellule de texte (comme celle que vous êtes en train de lire\n",
    "- soit une cellule de code comme celle qui se trouve juste après\n",
    "\n",
    "On peut facilement faire la différence entre les deux: \n",
    "les cellulles contenant du code sont précédées du mot **Entrée [ ]**\n",
    "\n",
    "Que pouvez vous faire ?\n",
    "\n",
    "- avec une cellule de texte: il suffit de lire et de bien chercher à comprendre\n",
    "- avec une cellule de code : vous pouvez exécuter le code ! Pour cela, on clique une fois sur la cellule de code et on clique sur le bouton `Exécuter` situé en haut de la page. On peut aussi et c'est plus pratique, taper sur les touches du clavier`CTRL`+`Entrée`\n",
    "\n",
    "Essayez donc d'exécuter le code de la cellule suivante !\n"
   ]
  },
  {
   "cell_type": "code",
   "execution_count": null,
   "metadata": {},
   "outputs": [],
   "source": []
  },
  {
   "cell_type": "markdown",
   "metadata": {},
   "source": [
    "# Partie 0 BIS installation\n",
    "Pour traiter des données, nous allons utiliser la bibliothèque Python Pandas. Une bibliothèque Python permet de rajouter des fonctionnalités par rapport au langage de base. La bibliothèque Pandas est donc très utilisée pour tout ce qui touche au traitement des données.\n",
    " Pour installer pandas, faire \n"
   ]
  },
  {
   "cell_type": "code",
   "execution_count": null,
   "metadata": {},
   "outputs": [],
   "source": []
  },
  {
   "cell_type": "code",
   "execution_count": null,
   "metadata": {},
   "outputs": [],
   "source": [
    "!  pip install pandas\n"
   ]
  },
  {
   "cell_type": "markdown",
   "metadata": {},
   "source": []
  },
  {
   "cell_type": "markdown",
   "metadata": {},
   "source": [
    "Pour vérifier que pandas fonctionne bien, veuillez lancer la cellulle suivante\n"
   ]
  },
  {
   "cell_type": "code",
   "execution_count": null,
   "metadata": {},
   "outputs": [],
   "source": [
    "import pandas\n",
    "def lecture():\n",
    "    iden=pandas.read_csv(\"test_pandas.csv\")\n",
    "    return iden\n",
    "lecture()"
   ]
  },
  {
   "cell_type": "markdown",
   "metadata": {},
   "source": [
    "# Partie 1 Utiliser le module pandas\n",
    "\n",
    "Commençons ! \n",
    "\n",
    "Pour nos premiers pas avec Pandas, nous allons utiliser des données très simples au format CSV : \n",
    "ces données sont contenues dans le fichier ident_virgule.csv que vous trouverez à la racine de votre dossier.\n",
    "\n",
    "Le code ci-dessous est très simple :\n",
    "\n",
    "- Avec la première ligne, nous importons la bibliothèque pandas afin de pouvoir l'utiliser\n",
    "- À la deuxième ligne,nous créons une nouvelle fonction nommée lecture(). La création s'effeectue avec le mot clé `def`\n",
    "- A la troisième ligne, dans le sous programme de la fonction, nous créons une variable \"iden\" qui va contenir les données présentes dans le fichier ident_virgule.csv\"\n",
    "- A la 4ème ligne,toujours dans le sous programme de la fonction, on renvoie la variable iden\n",
    "\n",
    "Fin de la focntion et retour à la ligne\n",
    "- à la dernière ligne, la fonction lecture est lancée.\n",
    "\n",
    "A la troisième ligne, nous demandons à python d'afficher le contenu de la variable iden.\n",
    "\n",
    "Exécutez la cellule ci dessous pour tester ce code.\n"
   ]
  },
  {
   "cell_type": "code",
   "execution_count": null,
   "metadata": {},
   "outputs": [],
   "source": [
    "import pandas\n",
    "def lecture():\n",
    "    iden=pandas.read_csv(\"ident_virgule.csv\")\n",
    "    return(iden)\n",
    "\n",
    "lecture()"
   ]
  },
  {
   "cell_type": "markdown",
   "metadata": {},
   "source": [
    " Vous avez peut-être remarqué qu'une colonne a été ajoutée par rapport à ce que nous obtenions avec le tableur :\n",
    "\n",
    "Les nombres présents dans cette colonne sont appelés des index.\n",
    "Chaque ligne du tableau a un index (première ligne : index 0, deuxième ligne index 1...)\n",
    "\n",
    "ATTENTION : les index commencent à 0 et pas à 1\n",
    "\n",
    "Les colonnes possèdes également des index, dans notre exemple ces index correspondent au \"nom\" (index de la première colonne), au \"prenom\" (index de la deuxième colonne) et à \"date_naissance\" (index de la troisième colonne)\n",
    "\n",
    "En résumé : \n",
    "- les lignes possèdent des index (0,1,2..).\n",
    "- les colonnes possèdent aussi des index (\"nom\", \"prenom\",...)\n",
    "\n",
    "Il est possible de récupérer certaines données du tableau, par exemple, certaines lignes, certaines colonnes ou bien encore des valeurs uniques. \n",
    "\n",
    "Pour cela, il suffit d'utiliser l'instruction `loc` avec les index des lignes et les index des colonnes. \n",
    "\n",
    "Le principe de fonctionnement de \"loc\" est relativement simple puisque l'on aura une instruction de la forme \n",
    "loc[index_ligne,index_colonne]\n",
    "\n"
   ]
  },
  {
   "cell_type": "markdown",
   "metadata": {},
   "source": [
    "# À faire vous-même 5\n",
    "Testez le programme suivant  et étudier attentivement la ligne 4"
   ]
  },
  {
   "cell_type": "code",
   "execution_count": null,
   "metadata": {},
   "outputs": [],
   "source": [
    "import pandas\n",
    "def lecture():\n",
    "    iden=pandas.read_csv(\"ident_virgule.csv\")\n",
    "    info=iden.loc[1,'prenom']\n",
    "    return info\n",
    "\n",
    "lecture()"
   ]
  },
  {
   "cell_type": "markdown",
   "metadata": {},
   "source": [
    "# À faire vous-même 6\n",
    "\n",
    "Modifiez le programme du \"À faire vous-même 5\" pour que la variable info renvoyée contienne \"12/06/1978\" "
   ]
  },
  {
   "cell_type": "code",
   "execution_count": null,
   "metadata": {},
   "outputs": [],
   "source": [
    "import pandas\n",
    "def lecture():\n",
    "    iden=pandas.read_csv(\"ident_virgule.csv\")\n",
    "    info=iden.loc[1,'prenom']\n",
    "    return info\n",
    "\n",
    "lecture()"
   ]
  },
  {
   "cell_type": "markdown",
   "metadata": {},
   "source": [
    " Il est possible de récupérer toutes les lignes d'une colonne, il suffit de remplacer la partie \" index_ligne \" de `loc` par **\" : \"**\n",
    "\n",
    "# À faire vous-même 7\n",
    "\n",
    "Testez le programme suivant :\n",
    "\n",
    "Vérifiez que la variable \"info\" contient bien toutes les données de la colonne d'index \"nom\", autrement dit, tous les noms "
   ]
  },
  {
   "cell_type": "code",
   "execution_count": null,
   "metadata": {},
   "outputs": [],
   "source": [
    "import pandas\n",
    "def lecture():\n",
    "    iden=pandas.read_csv(\"ident_virgule.csv\")\n",
    "    info=iden.loc[:,'nom']\n",
    "    return info\n",
    "\n",
    "lecture()"
   ]
  },
  {
   "cell_type": "markdown",
   "metadata": {},
   "source": [
    "Il est possible de récupérer toutes les colonnes d'une ligne particulière, cette fois en remplaçant la partie \"index_colonne\" de \"loc\" par \":\"\n",
    "\n",
    "# À faire vous-même 8\n",
    "\n",
    "Testez le programme suivant : \n",
    "\n",
    "Vérifiez que la variable \"info\" contient bien toutes les données de la dernière ligne (index 2) "
   ]
  },
  {
   "cell_type": "code",
   "execution_count": null,
   "metadata": {},
   "outputs": [],
   "source": [
    "import pandas\n",
    "def lecture():\n",
    "    iden=pandas.read_csv(\"ident_virgule.csv\")\n",
    "    info=iden.loc[2,:]\n",
    "    return info\n",
    "\n",
    "lecture()\n"
   ]
  },
  {
   "cell_type": "markdown",
   "metadata": {},
   "source": [
    "Il est aussi possible de récupérer seulement certaines lignes et certaines colonnes en utilisant la notation suivante :\n",
    "\n",
    "loc[[index_ligne_1,index_ligne_2,...],[index_colonne_1,index_colonne_2,...]] \n",
    "\n",
    "# À faire vous-même 9\n",
    "\n",
    "Testez le programme suivant : \n",
    "\n",
    "Vérifiez que la variable \"info\" contient bien un tableau avec uniquement \n",
    "- les colonnes \"nom\" et \"date_naissance\" \n",
    "- issuees de la première ligne (index 0) et de la deuxième ligne (index 1). "
   ]
  },
  {
   "cell_type": "code",
   "execution_count": null,
   "metadata": {},
   "outputs": [],
   "source": [
    "\n",
    "import pandas\n",
    "def lecture():\n",
    "    iden=pandas.read_csv(\"ident_virgule.csv\")\n",
    "    info=iden.loc[[0,1],['nom','date_naissance']]\n",
    "    return info\n",
    "\n",
    "lecture()\n",
    "\n"
   ]
  },
  {
   "cell_type": "markdown",
   "metadata": {},
   "source": [
    "# Partie 2\n",
    "Afin d'avoir des exemples plus complexes à traiter, dans la suite, nous allons travailler sur les données contenues dans le fichier ville_virgule.csv. \n",
    "\n",
    "# À faire vous-même 10\n",
    "\n",
    "Testez le programme suivant : \n"
   ]
  },
  {
   "cell_type": "code",
   "execution_count": null,
   "metadata": {},
   "outputs": [],
   "source": [
    "import pandas\n",
    "def lecture():\n",
    "    info=pandas.read_csv(\"villes_virgule.csv\")\n",
    "    return info\n",
    "\n",
    "lecture()\n"
   ]
  },
  {
   "cell_type": "markdown",
   "metadata": {},
   "source": [
    "Comme vous pouvez le constater, il manque des données dans le tableau qui s'affiche dans la console (les données manquantes sont symbolisées par des ...), en effet, le tableau contient trop données pour qu'il soit entièrement affiché dans la console .\n",
    "\n",
    "En effet ce fichier contient 36700 lignes\n",
    "\n",
    "\n",
    "# À faire vous-même 11\n",
    "\n",
    "En explorant le tableau, vous devriez, notamment dans les colonnes l'altitude mini et maxi, voir apparaitre un étrange \"nan\" pour les dernières villes du tableau. \"nan\" signifie \"not a number\", ici, cela veut tout simplement dire que certaines données sont manquantes.\n",
    "\n",
    "Nous allons maintenant introduire des conditions dans la sélection des villes. \n",
    "Imaginez par exemple que vous désirez obtenir un tableau contenant toutes les villes qui ont une altitude minimum supérieure à 1500 m :\n",
    "\n",
    "\n",
    "Analysez et testez le programme suivant : \n",
    "\n",
    "\n"
   ]
  },
  {
   "cell_type": "code",
   "execution_count": null,
   "metadata": {},
   "outputs": [],
   "source": [
    "import pandas\n",
    "def lecture():\n",
    "    info_villes=pandas.read_csv(\"villes_virgule.csv\")\n",
    "    nom_alt=info_villes.loc[info_villes[\"alt_min\"]>1500,[\"nom\",\"alt_min\"]]\n",
    "    return nom_alt\n",
    "\n",
    "lecture()\n"
   ]
  },
  {
   "cell_type": "markdown",
   "metadata": {},
   "source": [
    "Dans le \"loc\", l'expression \"info_villes[\"alt_min\"]>1500\" est bien avant la virgule, elle concerne donc les index des lignes du tableau. On sélectionnera uniquement les lignes qui auront la valeur du descripteur \"alt_min\" supérieure à 1500. Nous allons donc bien sélectionner les villes qui ont une altitude minimum supérieure à 1500 m\n",
    "\n",
    "# À faire vous-même 12\n",
    "\n",
    "En vous inspirant de ce qui a été fait au \"À faire vous-même 11\", écrivez un programme qui permettra d'avoir les villes qui ont une densité d'habitant inférieure strictement à 1 (dans le tableau ainsi créé, on aura 3 colonnes : le nom de la ville, la densité de la population et l'altitude minimum) \n",
    "\n",
    "Modifier donc le programme ci dessous pour connaitre ces villes fantômes de France:"
   ]
  },
  {
   "cell_type": "code",
   "execution_count": null,
   "metadata": {},
   "outputs": [],
   "source": [
    "import pandas\n",
    "def lecture():\n",
    "    info_villes=pandas.read_csv(\"villes_virgule.csv\")\n",
    "    nom_alt=info_villes.loc[info_villes[\"alt_min\"]>1500,[\"nom\",\"alt_min\"]]\n",
    "    return nom_alt\n",
    "\n",
    "lecture()"
   ]
  },
  {
   "cell_type": "markdown",
   "metadata": {},
   "source": [
    "Il est possible de combiner plusieurs facteurs de sélection en utilisant \n",
    "- un \"et\"  que l'on code avec une esperluette `&` \n",
    "ou \n",
    "- un \"ou\"  que l'on code avec un tube  `|`    (<kbd>AltGr</kbd> +  <kbd>6</kbd>)\n",
    "\n",
    "# À faire vous-même 13\n",
    "\n",
    "Analysez et testez le programme suivant : "
   ]
  },
  {
   "cell_type": "code",
   "execution_count": null,
   "metadata": {},
   "outputs": [],
   "source": [
    "import pandas\n",
    "\n",
    "def lecture():\n",
    "    info_villes=pandas.read_csv(\"villes_virgule.csv\")\n",
    "    nom_alt=info_villes.loc[(info_villes[\"alt_min\"]>1500) & (info_villes[\"dens\"]>50),[\"nom\",\"dens\",\"alt_min\"]]\n",
    "    return nom_alt\n",
    "\n",
    "lecture()\n",
    "\n"
   ]
  },
  {
   "cell_type": "markdown",
   "metadata": {},
   "source": [
    "Vous devriez constater qu'il y a, en France, une seule ville avec une densité de population supérieure à 50 et une altitude minimum supérieure à 1500 m.\n",
    "\n",
    "Il est aussi possible d'effectuer des calculs sur des colonnes, par exemple des moyennes. Il suffit d'utiliser l'instruction \"mean\" pour effectuer une moyenne :\n",
    "\n",
    "# À faire vous-même 14\n",
    "\n",
    "Analysez et testez le programme suivant : "
   ]
  },
  {
   "cell_type": "code",
   "execution_count": null,
   "metadata": {},
   "outputs": [],
   "source": [
    "import pandas\n",
    "\n",
    "def lecture():\n",
    "    info_villes=pandas.read_csv(\"villes_virgule.csv\")\n",
    "    moyenne_alt_min=info_villes.loc[:,\"alt_min\"].mean()\n",
    "    return moyenne_alt_min\n",
    "\n",
    "lecture()\n"
   ]
  },
  {
   "cell_type": "markdown",
   "metadata": {},
   "source": [
    "Vous devriez constater que l'altitude minimum moyenne est de 193 m en France. \n",
    "\n",
    "Je rappelle que dans \"loc[:,\"alt_min\"]\", le \":\" signifie que l'on considère toutes les lignes du tableau. \n",
    "\n",
    "De plus le \"alt_min\" que le calcul de la moyenne porte bien sur les données du descripteur \"alt_min\".\n",
    "\n",
    "# À faire vous-même 15\n",
    "\n",
    "Modifier le programme du \"À faire vous-même 14\" qui a été recopié dans la cellule suivante.\n",
    "Vous dever calculer le nombre moyen d'habitants en 2012 :\n",
    "\n",
    "\n"
   ]
  },
  {
   "cell_type": "code",
   "execution_count": null,
   "metadata": {},
   "outputs": [],
   "source": [
    "import pandas\n",
    "\n",
    "def lecture():\n",
    "    info_villes=pandas.read_csv(\"villes_virgule.csv\")\n",
    "    moyenne_alt_min=info_villes.loc[:,\"alt_min\"].mean()\n",
    "    return moyenne_alt_min\n",
    "\n",
    "lecture()\n"
   ]
  },
  {
   "cell_type": "markdown",
   "metadata": {},
   "source": [
    "Pour l'instant nous avons calculé une moyenne sur l'ensemble des lignes, il est aussi possible d'imposer une condition sur les lignes qui seront utilisées pour le calcul.\n",
    "\n",
    "# À faire vous-même 16\n",
    "\n",
    "Analysez et testez le programme suivant : "
   ]
  },
  {
   "cell_type": "code",
   "execution_count": null,
   "metadata": {},
   "outputs": [],
   "source": [
    "import pandas\n",
    "\n",
    "def lecture():\n",
    "    info_villes=pandas.read_csv(\"villes_virgule.csv\")\n",
    "    nbe_hab=info_villes.loc[info_villes[\"alt_min\"]>1500,\"nb_hab_2012\"].mean()\n",
    "    return nbe_hab\n",
    "\n",
    "lecture()\n",
    "\n"
   ]
  },
  {
   "cell_type": "markdown",
   "metadata": {},
   "source": [
    "Vous devriez constater que les villes ayant une altitude minimum supérieure à 1500 m avaient en moyenne 350 habitants en 2012.\n",
    "Il est aussi possible de trier le tableau en fonction des valeurs d'un descripteur. Il suffit d'utiliser l'instruction `sort_values`\n",
    "\n",
    "# À faire vous-même 17\n",
    "\n",
    "Analysez et testez le programme suivant : "
   ]
  },
  {
   "cell_type": "code",
   "execution_count": null,
   "metadata": {},
   "outputs": [],
   "source": [
    "import pandas\n",
    "\n",
    "def lecture():\n",
    "    info_villes=pandas.read_csv(\"villes_virgule.csv\")\n",
    "    tri_alt_min=info_villes.sort_values(by=[\"alt_min\"])\n",
    "    return tri_alt_min\n",
    "\n",
    "lecture()\n"
   ]
  },
  {
   "cell_type": "markdown",
   "metadata": {},
   "source": [
    "Vous devriez obtenir un nouveau tableau de données \"tri_alt_min\" trié dans l'ordre croissant des altitudes minimums. Quelle est la ville ayant l'altitude minimum la plus faible de France ?\n",
    "\n",
    "Il est aussi possible de trier par ordre décroissant en ajoutant `ascending=False` :\n",
    "\n",
    "# À faire vous-même 18\n",
    "\n",
    "Analysez et testez le programme suivant : "
   ]
  },
  {
   "cell_type": "code",
   "execution_count": null,
   "metadata": {},
   "outputs": [],
   "source": [
    "import pandas\n",
    "\n",
    "def lecture():\n",
    "    info_villes=pandas.read_csv(\"villes_virgule.csv\")\n",
    "    tri_alt_min=info_villes.sort_values(by=[\"alt_min\"], ascending=False)\n",
    "    return tri_alt_min\n",
    "\n",
    "lecture()\n"
   ]
  },
  {
   "cell_type": "markdown",
   "metadata": {},
   "source": [
    "Quelle est la ville ayant l'altitude minimum la plus importante de France ?\n",
    "\n",
    "# À faire vous-même 19\n",
    "\n",
    "Modifier le programme ci dessous afin de répondre à la question suivante : \n",
    "quelle est la ville ayant la densité de population la plus forte ? \n",
    "\n"
   ]
  },
  {
   "cell_type": "code",
   "execution_count": null,
   "metadata": {},
   "outputs": [],
   "source": [
    "import pandas\n",
    "\n",
    "def lecture():\n",
    "    info_villes=pandas.read_csv(\"villes_virgule.csv\")\n",
    "    tri_alt_min=info_villes.sort_values(by=[\"alt_min\"], ascending=False)\n",
    "    return tri_alt_min\n",
    "\n",
    "lecture()"
   ]
  }
 ],
 "metadata": {
  "kernelspec": {
   "display_name": "Python 3",
   "language": "python",
   "name": "python3"
  },
  "language_info": {
   "codemirror_mode": {
    "name": "ipython",
    "version": 3
   },
   "file_extension": ".py",
   "mimetype": "text/x-python",
   "name": "python",
   "nbconvert_exporter": "python",
   "pygments_lexer": "ipython3",
   "version": "3.7.4"
  }
 },
 "nbformat": 4,
 "nbformat_minor": 2
}
